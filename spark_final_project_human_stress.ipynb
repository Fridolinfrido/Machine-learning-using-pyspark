{
  "nbformat": 4,
  "nbformat_minor": 0,
  "metadata": {
    "colab": {
      "provenance": []
    },
    "kernelspec": {
      "name": "python3",
      "display_name": "Python 3"
    },
    "language_info": {
      "name": "python"
    }
  },
  "cells": [
    {
      "cell_type": "code",
      "execution_count": null,
      "metadata": {
        "id": "GeGOB-xh7j2h"
      },
      "outputs": [],
      "source": [
        "import pandas as pd\n",
        "import numpy as np    "
      ]
    },
    {
      "cell_type": "code",
      "source": [
        "df = pd.read_csv('/content/drive/MyDrive/python csv files/Human stress detection.csv')\n",
        "df.head()"
      ],
      "metadata": {
        "colab": {
          "base_uri": "https://localhost:8080/",
          "height": 206
        },
        "id": "-uhxcv9v_i2s",
        "outputId": "02da214a-c2f2-42a1-fa9a-472f1da9b8e8"
      },
      "execution_count": null,
      "outputs": [
        {
          "output_type": "execute_result",
          "data": {
            "text/plain": [
              "   Humidity  Temperature  Step count  Stress Level\n",
              "0     21.33        90.33       123.0           1.0\n",
              "1     21.41        90.41        93.0           1.0\n",
              "2     27.12        96.12       196.0           2.0\n",
              "3     27.64        96.64       177.0           2.0\n",
              "4     10.87        79.87        87.0           0.0"
            ],
            "text/html": [
              "\n",
              "  <div id=\"df-1cefa42b-1335-472b-a5b6-68b46d91bb6a\">\n",
              "    <div class=\"colab-df-container\">\n",
              "      <div>\n",
              "<style scoped>\n",
              "    .dataframe tbody tr th:only-of-type {\n",
              "        vertical-align: middle;\n",
              "    }\n",
              "\n",
              "    .dataframe tbody tr th {\n",
              "        vertical-align: top;\n",
              "    }\n",
              "\n",
              "    .dataframe thead th {\n",
              "        text-align: right;\n",
              "    }\n",
              "</style>\n",
              "<table border=\"1\" class=\"dataframe\">\n",
              "  <thead>\n",
              "    <tr style=\"text-align: right;\">\n",
              "      <th></th>\n",
              "      <th>Humidity</th>\n",
              "      <th>Temperature</th>\n",
              "      <th>Step count</th>\n",
              "      <th>Stress Level</th>\n",
              "    </tr>\n",
              "  </thead>\n",
              "  <tbody>\n",
              "    <tr>\n",
              "      <th>0</th>\n",
              "      <td>21.33</td>\n",
              "      <td>90.33</td>\n",
              "      <td>123.0</td>\n",
              "      <td>1.0</td>\n",
              "    </tr>\n",
              "    <tr>\n",
              "      <th>1</th>\n",
              "      <td>21.41</td>\n",
              "      <td>90.41</td>\n",
              "      <td>93.0</td>\n",
              "      <td>1.0</td>\n",
              "    </tr>\n",
              "    <tr>\n",
              "      <th>2</th>\n",
              "      <td>27.12</td>\n",
              "      <td>96.12</td>\n",
              "      <td>196.0</td>\n",
              "      <td>2.0</td>\n",
              "    </tr>\n",
              "    <tr>\n",
              "      <th>3</th>\n",
              "      <td>27.64</td>\n",
              "      <td>96.64</td>\n",
              "      <td>177.0</td>\n",
              "      <td>2.0</td>\n",
              "    </tr>\n",
              "    <tr>\n",
              "      <th>4</th>\n",
              "      <td>10.87</td>\n",
              "      <td>79.87</td>\n",
              "      <td>87.0</td>\n",
              "      <td>0.0</td>\n",
              "    </tr>\n",
              "  </tbody>\n",
              "</table>\n",
              "</div>\n",
              "      <button class=\"colab-df-convert\" onclick=\"convertToInteractive('df-1cefa42b-1335-472b-a5b6-68b46d91bb6a')\"\n",
              "              title=\"Convert this dataframe to an interactive table.\"\n",
              "              style=\"display:none;\">\n",
              "        \n",
              "  <svg xmlns=\"http://www.w3.org/2000/svg\" height=\"24px\"viewBox=\"0 0 24 24\"\n",
              "       width=\"24px\">\n",
              "    <path d=\"M0 0h24v24H0V0z\" fill=\"none\"/>\n",
              "    <path d=\"M18.56 5.44l.94 2.06.94-2.06 2.06-.94-2.06-.94-.94-2.06-.94 2.06-2.06.94zm-11 1L8.5 8.5l.94-2.06 2.06-.94-2.06-.94L8.5 2.5l-.94 2.06-2.06.94zm10 10l.94 2.06.94-2.06 2.06-.94-2.06-.94-.94-2.06-.94 2.06-2.06.94z\"/><path d=\"M17.41 7.96l-1.37-1.37c-.4-.4-.92-.59-1.43-.59-.52 0-1.04.2-1.43.59L10.3 9.45l-7.72 7.72c-.78.78-.78 2.05 0 2.83L4 21.41c.39.39.9.59 1.41.59.51 0 1.02-.2 1.41-.59l7.78-7.78 2.81-2.81c.8-.78.8-2.07 0-2.86zM5.41 20L4 18.59l7.72-7.72 1.47 1.35L5.41 20z\"/>\n",
              "  </svg>\n",
              "      </button>\n",
              "      \n",
              "  <style>\n",
              "    .colab-df-container {\n",
              "      display:flex;\n",
              "      flex-wrap:wrap;\n",
              "      gap: 12px;\n",
              "    }\n",
              "\n",
              "    .colab-df-convert {\n",
              "      background-color: #E8F0FE;\n",
              "      border: none;\n",
              "      border-radius: 50%;\n",
              "      cursor: pointer;\n",
              "      display: none;\n",
              "      fill: #1967D2;\n",
              "      height: 32px;\n",
              "      padding: 0 0 0 0;\n",
              "      width: 32px;\n",
              "    }\n",
              "\n",
              "    .colab-df-convert:hover {\n",
              "      background-color: #E2EBFA;\n",
              "      box-shadow: 0px 1px 2px rgba(60, 64, 67, 0.3), 0px 1px 3px 1px rgba(60, 64, 67, 0.15);\n",
              "      fill: #174EA6;\n",
              "    }\n",
              "\n",
              "    [theme=dark] .colab-df-convert {\n",
              "      background-color: #3B4455;\n",
              "      fill: #D2E3FC;\n",
              "    }\n",
              "\n",
              "    [theme=dark] .colab-df-convert:hover {\n",
              "      background-color: #434B5C;\n",
              "      box-shadow: 0px 1px 3px 1px rgba(0, 0, 0, 0.15);\n",
              "      filter: drop-shadow(0px 1px 2px rgba(0, 0, 0, 0.3));\n",
              "      fill: #FFFFFF;\n",
              "    }\n",
              "  </style>\n",
              "\n",
              "      <script>\n",
              "        const buttonEl =\n",
              "          document.querySelector('#df-1cefa42b-1335-472b-a5b6-68b46d91bb6a button.colab-df-convert');\n",
              "        buttonEl.style.display =\n",
              "          google.colab.kernel.accessAllowed ? 'block' : 'none';\n",
              "\n",
              "        async function convertToInteractive(key) {\n",
              "          const element = document.querySelector('#df-1cefa42b-1335-472b-a5b6-68b46d91bb6a');\n",
              "          const dataTable =\n",
              "            await google.colab.kernel.invokeFunction('convertToInteractive',\n",
              "                                                     [key], {});\n",
              "          if (!dataTable) return;\n",
              "\n",
              "          const docLinkHtml = 'Like what you see? Visit the ' +\n",
              "            '<a target=\"_blank\" href=https://colab.research.google.com/notebooks/data_table.ipynb>data table notebook</a>'\n",
              "            + ' to learn more about interactive tables.';\n",
              "          element.innerHTML = '';\n",
              "          dataTable['output_type'] = 'display_data';\n",
              "          await google.colab.output.renderOutput(dataTable, element);\n",
              "          const docLink = document.createElement('div');\n",
              "          docLink.innerHTML = docLinkHtml;\n",
              "          element.appendChild(docLink);\n",
              "        }\n",
              "      </script>\n",
              "    </div>\n",
              "  </div>\n",
              "  "
            ]
          },
          "metadata": {},
          "execution_count": 75
        }
      ]
    },
    {
      "cell_type": "code",
      "source": [
        "df.columns"
      ],
      "metadata": {
        "colab": {
          "base_uri": "https://localhost:8080/"
        },
        "id": "a5Ic2XPO_z8I",
        "outputId": "d00a9f59-4063-43f8-ade9-32c047d432a1"
      },
      "execution_count": null,
      "outputs": [
        {
          "output_type": "execute_result",
          "data": {
            "text/plain": [
              "Index(['Humidity', 'Temperature', 'Step count', 'Stress Level'], dtype='object')"
            ]
          },
          "metadata": {},
          "execution_count": 76
        }
      ]
    },
    {
      "cell_type": "code",
      "source": [
        "df.info()"
      ],
      "metadata": {
        "colab": {
          "base_uri": "https://localhost:8080/"
        },
        "id": "u6onTji-_5tK",
        "outputId": "211b4bd1-676c-4dc9-a891-3b095673d209"
      },
      "execution_count": null,
      "outputs": [
        {
          "output_type": "stream",
          "name": "stdout",
          "text": [
            "<class 'pandas.core.frame.DataFrame'>\n",
            "RangeIndex: 48730 entries, 0 to 48729\n",
            "Data columns (total 4 columns):\n",
            " #   Column        Non-Null Count  Dtype  \n",
            "---  ------        --------------  -----  \n",
            " 0   Humidity      10299 non-null  float64\n",
            " 1   Temperature   10299 non-null  float64\n",
            " 2   Step count    10299 non-null  float64\n",
            " 3   Stress Level  10299 non-null  float64\n",
            "dtypes: float64(4)\n",
            "memory usage: 1.5 MB\n"
          ]
        }
      ]
    },
    {
      "cell_type": "code",
      "source": [
        "df.describe()"
      ],
      "metadata": {
        "colab": {
          "base_uri": "https://localhost:8080/",
          "height": 300
        },
        "id": "MzJhooyw_8gy",
        "outputId": "116dfb9a-d085-4d8a-c37d-6631e475ad17"
      },
      "execution_count": null,
      "outputs": [
        {
          "output_type": "execute_result",
          "data": {
            "text/plain": [
              "           Humidity   Temperature    Step count  Stress Level\n",
              "count  10299.000000  10299.000000  10299.000000  10299.000000\n",
              "mean      19.996456     86.995745    100.330226      1.105447\n",
              "std        5.784539     11.450249     58.079644      0.771248\n",
              "min       10.000000     36.580000      0.000000      0.000000\n",
              "25%       15.000000     83.390000     50.000000      0.000000\n",
              "50%       19.980000     88.590000    102.000000      1.000000\n",
              "75%       24.985000     93.800000    150.000000      2.000000\n",
              "max       56.890000     99.000000    200.000000      2.000000"
            ],
            "text/html": [
              "\n",
              "  <div id=\"df-a60eda02-b250-4d31-8d1e-aa6768f2cbe9\">\n",
              "    <div class=\"colab-df-container\">\n",
              "      <div>\n",
              "<style scoped>\n",
              "    .dataframe tbody tr th:only-of-type {\n",
              "        vertical-align: middle;\n",
              "    }\n",
              "\n",
              "    .dataframe tbody tr th {\n",
              "        vertical-align: top;\n",
              "    }\n",
              "\n",
              "    .dataframe thead th {\n",
              "        text-align: right;\n",
              "    }\n",
              "</style>\n",
              "<table border=\"1\" class=\"dataframe\">\n",
              "  <thead>\n",
              "    <tr style=\"text-align: right;\">\n",
              "      <th></th>\n",
              "      <th>Humidity</th>\n",
              "      <th>Temperature</th>\n",
              "      <th>Step count</th>\n",
              "      <th>Stress Level</th>\n",
              "    </tr>\n",
              "  </thead>\n",
              "  <tbody>\n",
              "    <tr>\n",
              "      <th>count</th>\n",
              "      <td>10299.000000</td>\n",
              "      <td>10299.000000</td>\n",
              "      <td>10299.000000</td>\n",
              "      <td>10299.000000</td>\n",
              "    </tr>\n",
              "    <tr>\n",
              "      <th>mean</th>\n",
              "      <td>19.996456</td>\n",
              "      <td>86.995745</td>\n",
              "      <td>100.330226</td>\n",
              "      <td>1.105447</td>\n",
              "    </tr>\n",
              "    <tr>\n",
              "      <th>std</th>\n",
              "      <td>5.784539</td>\n",
              "      <td>11.450249</td>\n",
              "      <td>58.079644</td>\n",
              "      <td>0.771248</td>\n",
              "    </tr>\n",
              "    <tr>\n",
              "      <th>min</th>\n",
              "      <td>10.000000</td>\n",
              "      <td>36.580000</td>\n",
              "      <td>0.000000</td>\n",
              "      <td>0.000000</td>\n",
              "    </tr>\n",
              "    <tr>\n",
              "      <th>25%</th>\n",
              "      <td>15.000000</td>\n",
              "      <td>83.390000</td>\n",
              "      <td>50.000000</td>\n",
              "      <td>0.000000</td>\n",
              "    </tr>\n",
              "    <tr>\n",
              "      <th>50%</th>\n",
              "      <td>19.980000</td>\n",
              "      <td>88.590000</td>\n",
              "      <td>102.000000</td>\n",
              "      <td>1.000000</td>\n",
              "    </tr>\n",
              "    <tr>\n",
              "      <th>75%</th>\n",
              "      <td>24.985000</td>\n",
              "      <td>93.800000</td>\n",
              "      <td>150.000000</td>\n",
              "      <td>2.000000</td>\n",
              "    </tr>\n",
              "    <tr>\n",
              "      <th>max</th>\n",
              "      <td>56.890000</td>\n",
              "      <td>99.000000</td>\n",
              "      <td>200.000000</td>\n",
              "      <td>2.000000</td>\n",
              "    </tr>\n",
              "  </tbody>\n",
              "</table>\n",
              "</div>\n",
              "      <button class=\"colab-df-convert\" onclick=\"convertToInteractive('df-a60eda02-b250-4d31-8d1e-aa6768f2cbe9')\"\n",
              "              title=\"Convert this dataframe to an interactive table.\"\n",
              "              style=\"display:none;\">\n",
              "        \n",
              "  <svg xmlns=\"http://www.w3.org/2000/svg\" height=\"24px\"viewBox=\"0 0 24 24\"\n",
              "       width=\"24px\">\n",
              "    <path d=\"M0 0h24v24H0V0z\" fill=\"none\"/>\n",
              "    <path d=\"M18.56 5.44l.94 2.06.94-2.06 2.06-.94-2.06-.94-.94-2.06-.94 2.06-2.06.94zm-11 1L8.5 8.5l.94-2.06 2.06-.94-2.06-.94L8.5 2.5l-.94 2.06-2.06.94zm10 10l.94 2.06.94-2.06 2.06-.94-2.06-.94-.94-2.06-.94 2.06-2.06.94z\"/><path d=\"M17.41 7.96l-1.37-1.37c-.4-.4-.92-.59-1.43-.59-.52 0-1.04.2-1.43.59L10.3 9.45l-7.72 7.72c-.78.78-.78 2.05 0 2.83L4 21.41c.39.39.9.59 1.41.59.51 0 1.02-.2 1.41-.59l7.78-7.78 2.81-2.81c.8-.78.8-2.07 0-2.86zM5.41 20L4 18.59l7.72-7.72 1.47 1.35L5.41 20z\"/>\n",
              "  </svg>\n",
              "      </button>\n",
              "      \n",
              "  <style>\n",
              "    .colab-df-container {\n",
              "      display:flex;\n",
              "      flex-wrap:wrap;\n",
              "      gap: 12px;\n",
              "    }\n",
              "\n",
              "    .colab-df-convert {\n",
              "      background-color: #E8F0FE;\n",
              "      border: none;\n",
              "      border-radius: 50%;\n",
              "      cursor: pointer;\n",
              "      display: none;\n",
              "      fill: #1967D2;\n",
              "      height: 32px;\n",
              "      padding: 0 0 0 0;\n",
              "      width: 32px;\n",
              "    }\n",
              "\n",
              "    .colab-df-convert:hover {\n",
              "      background-color: #E2EBFA;\n",
              "      box-shadow: 0px 1px 2px rgba(60, 64, 67, 0.3), 0px 1px 3px 1px rgba(60, 64, 67, 0.15);\n",
              "      fill: #174EA6;\n",
              "    }\n",
              "\n",
              "    [theme=dark] .colab-df-convert {\n",
              "      background-color: #3B4455;\n",
              "      fill: #D2E3FC;\n",
              "    }\n",
              "\n",
              "    [theme=dark] .colab-df-convert:hover {\n",
              "      background-color: #434B5C;\n",
              "      box-shadow: 0px 1px 3px 1px rgba(0, 0, 0, 0.15);\n",
              "      filter: drop-shadow(0px 1px 2px rgba(0, 0, 0, 0.3));\n",
              "      fill: #FFFFFF;\n",
              "    }\n",
              "  </style>\n",
              "\n",
              "      <script>\n",
              "        const buttonEl =\n",
              "          document.querySelector('#df-a60eda02-b250-4d31-8d1e-aa6768f2cbe9 button.colab-df-convert');\n",
              "        buttonEl.style.display =\n",
              "          google.colab.kernel.accessAllowed ? 'block' : 'none';\n",
              "\n",
              "        async function convertToInteractive(key) {\n",
              "          const element = document.querySelector('#df-a60eda02-b250-4d31-8d1e-aa6768f2cbe9');\n",
              "          const dataTable =\n",
              "            await google.colab.kernel.invokeFunction('convertToInteractive',\n",
              "                                                     [key], {});\n",
              "          if (!dataTable) return;\n",
              "\n",
              "          const docLinkHtml = 'Like what you see? Visit the ' +\n",
              "            '<a target=\"_blank\" href=https://colab.research.google.com/notebooks/data_table.ipynb>data table notebook</a>'\n",
              "            + ' to learn more about interactive tables.';\n",
              "          element.innerHTML = '';\n",
              "          dataTable['output_type'] = 'display_data';\n",
              "          await google.colab.output.renderOutput(dataTable, element);\n",
              "          const docLink = document.createElement('div');\n",
              "          docLink.innerHTML = docLinkHtml;\n",
              "          element.appendChild(docLink);\n",
              "        }\n",
              "      </script>\n",
              "    </div>\n",
              "  </div>\n",
              "  "
            ]
          },
          "metadata": {},
          "execution_count": 78
        }
      ]
    },
    {
      "cell_type": "code",
      "source": [
        "df.isnull().sum()"
      ],
      "metadata": {
        "colab": {
          "base_uri": "https://localhost:8080/"
        },
        "id": "v3548MIX__qp",
        "outputId": "14e78c2d-f4f3-4de8-ea26-aa8054b652c4"
      },
      "execution_count": null,
      "outputs": [
        {
          "output_type": "execute_result",
          "data": {
            "text/plain": [
              "Humidity        38431\n",
              "Temperature     38431\n",
              "Step count      38431\n",
              "Stress Level    38431\n",
              "dtype: int64"
            ]
          },
          "metadata": {},
          "execution_count": 79
        }
      ]
    },
    {
      "cell_type": "code",
      "source": [
        "df['Humidity'] = df['Humidity'].fillna(df['Humidity'].mean())\n",
        "df['Temperature'] = df['Temperature'].fillna(df['Temperature'].mean())\n",
        "df['Step count'] = df['Step count'].fillna(df['Step count'].mean())\n",
        "df['Stress Level'] = df['Stress Level'].fillna(df['Stress Level'].mean())"
      ],
      "metadata": {
        "id": "mnd9efvEABs9"
      },
      "execution_count": null,
      "outputs": []
    },
    {
      "cell_type": "code",
      "source": [
        "df.isnull().sum()"
      ],
      "metadata": {
        "colab": {
          "base_uri": "https://localhost:8080/"
        },
        "id": "2A4-1mEQARC8",
        "outputId": "8155f7e5-61a2-43ca-ef08-fd60fe382d29"
      },
      "execution_count": null,
      "outputs": [
        {
          "output_type": "execute_result",
          "data": {
            "text/plain": [
              "Humidity        0\n",
              "Temperature     0\n",
              "Step count      0\n",
              "Stress Level    0\n",
              "dtype: int64"
            ]
          },
          "metadata": {},
          "execution_count": 81
        }
      ]
    },
    {
      "cell_type": "code",
      "source": [
        "df.corr()"
      ],
      "metadata": {
        "colab": {
          "base_uri": "https://localhost:8080/",
          "height": 175
        },
        "id": "vjz3WSVIA3kP",
        "outputId": "1321ca6e-a5a5-4468-fd3f-89959f4079d5"
      },
      "execution_count": null,
      "outputs": [
        {
          "output_type": "execute_result",
          "data": {
            "text/plain": [
              "              Humidity  Temperature  Step count  Stress Level\n",
              "Humidity      1.000000     0.081326    0.677491      0.729512\n",
              "Temperature   0.081326     1.000000    0.075795      0.084417\n",
              "Step count    0.677491     0.075795    1.000000      0.648414\n",
              "Stress Level  0.729512     0.084417    0.648414      1.000000"
            ],
            "text/html": [
              "\n",
              "  <div id=\"df-53887dd7-3763-4628-a7d8-b9c892a3de15\">\n",
              "    <div class=\"colab-df-container\">\n",
              "      <div>\n",
              "<style scoped>\n",
              "    .dataframe tbody tr th:only-of-type {\n",
              "        vertical-align: middle;\n",
              "    }\n",
              "\n",
              "    .dataframe tbody tr th {\n",
              "        vertical-align: top;\n",
              "    }\n",
              "\n",
              "    .dataframe thead th {\n",
              "        text-align: right;\n",
              "    }\n",
              "</style>\n",
              "<table border=\"1\" class=\"dataframe\">\n",
              "  <thead>\n",
              "    <tr style=\"text-align: right;\">\n",
              "      <th></th>\n",
              "      <th>Humidity</th>\n",
              "      <th>Temperature</th>\n",
              "      <th>Step count</th>\n",
              "      <th>Stress Level</th>\n",
              "    </tr>\n",
              "  </thead>\n",
              "  <tbody>\n",
              "    <tr>\n",
              "      <th>Humidity</th>\n",
              "      <td>1.000000</td>\n",
              "      <td>0.081326</td>\n",
              "      <td>0.677491</td>\n",
              "      <td>0.729512</td>\n",
              "    </tr>\n",
              "    <tr>\n",
              "      <th>Temperature</th>\n",
              "      <td>0.081326</td>\n",
              "      <td>1.000000</td>\n",
              "      <td>0.075795</td>\n",
              "      <td>0.084417</td>\n",
              "    </tr>\n",
              "    <tr>\n",
              "      <th>Step count</th>\n",
              "      <td>0.677491</td>\n",
              "      <td>0.075795</td>\n",
              "      <td>1.000000</td>\n",
              "      <td>0.648414</td>\n",
              "    </tr>\n",
              "    <tr>\n",
              "      <th>Stress Level</th>\n",
              "      <td>0.729512</td>\n",
              "      <td>0.084417</td>\n",
              "      <td>0.648414</td>\n",
              "      <td>1.000000</td>\n",
              "    </tr>\n",
              "  </tbody>\n",
              "</table>\n",
              "</div>\n",
              "      <button class=\"colab-df-convert\" onclick=\"convertToInteractive('df-53887dd7-3763-4628-a7d8-b9c892a3de15')\"\n",
              "              title=\"Convert this dataframe to an interactive table.\"\n",
              "              style=\"display:none;\">\n",
              "        \n",
              "  <svg xmlns=\"http://www.w3.org/2000/svg\" height=\"24px\"viewBox=\"0 0 24 24\"\n",
              "       width=\"24px\">\n",
              "    <path d=\"M0 0h24v24H0V0z\" fill=\"none\"/>\n",
              "    <path d=\"M18.56 5.44l.94 2.06.94-2.06 2.06-.94-2.06-.94-.94-2.06-.94 2.06-2.06.94zm-11 1L8.5 8.5l.94-2.06 2.06-.94-2.06-.94L8.5 2.5l-.94 2.06-2.06.94zm10 10l.94 2.06.94-2.06 2.06-.94-2.06-.94-.94-2.06-.94 2.06-2.06.94z\"/><path d=\"M17.41 7.96l-1.37-1.37c-.4-.4-.92-.59-1.43-.59-.52 0-1.04.2-1.43.59L10.3 9.45l-7.72 7.72c-.78.78-.78 2.05 0 2.83L4 21.41c.39.39.9.59 1.41.59.51 0 1.02-.2 1.41-.59l7.78-7.78 2.81-2.81c.8-.78.8-2.07 0-2.86zM5.41 20L4 18.59l7.72-7.72 1.47 1.35L5.41 20z\"/>\n",
              "  </svg>\n",
              "      </button>\n",
              "      \n",
              "  <style>\n",
              "    .colab-df-container {\n",
              "      display:flex;\n",
              "      flex-wrap:wrap;\n",
              "      gap: 12px;\n",
              "    }\n",
              "\n",
              "    .colab-df-convert {\n",
              "      background-color: #E8F0FE;\n",
              "      border: none;\n",
              "      border-radius: 50%;\n",
              "      cursor: pointer;\n",
              "      display: none;\n",
              "      fill: #1967D2;\n",
              "      height: 32px;\n",
              "      padding: 0 0 0 0;\n",
              "      width: 32px;\n",
              "    }\n",
              "\n",
              "    .colab-df-convert:hover {\n",
              "      background-color: #E2EBFA;\n",
              "      box-shadow: 0px 1px 2px rgba(60, 64, 67, 0.3), 0px 1px 3px 1px rgba(60, 64, 67, 0.15);\n",
              "      fill: #174EA6;\n",
              "    }\n",
              "\n",
              "    [theme=dark] .colab-df-convert {\n",
              "      background-color: #3B4455;\n",
              "      fill: #D2E3FC;\n",
              "    }\n",
              "\n",
              "    [theme=dark] .colab-df-convert:hover {\n",
              "      background-color: #434B5C;\n",
              "      box-shadow: 0px 1px 3px 1px rgba(0, 0, 0, 0.15);\n",
              "      filter: drop-shadow(0px 1px 2px rgba(0, 0, 0, 0.3));\n",
              "      fill: #FFFFFF;\n",
              "    }\n",
              "  </style>\n",
              "\n",
              "      <script>\n",
              "        const buttonEl =\n",
              "          document.querySelector('#df-53887dd7-3763-4628-a7d8-b9c892a3de15 button.colab-df-convert');\n",
              "        buttonEl.style.display =\n",
              "          google.colab.kernel.accessAllowed ? 'block' : 'none';\n",
              "\n",
              "        async function convertToInteractive(key) {\n",
              "          const element = document.querySelector('#df-53887dd7-3763-4628-a7d8-b9c892a3de15');\n",
              "          const dataTable =\n",
              "            await google.colab.kernel.invokeFunction('convertToInteractive',\n",
              "                                                     [key], {});\n",
              "          if (!dataTable) return;\n",
              "\n",
              "          const docLinkHtml = 'Like what you see? Visit the ' +\n",
              "            '<a target=\"_blank\" href=https://colab.research.google.com/notebooks/data_table.ipynb>data table notebook</a>'\n",
              "            + ' to learn more about interactive tables.';\n",
              "          element.innerHTML = '';\n",
              "          dataTable['output_type'] = 'display_data';\n",
              "          await google.colab.output.renderOutput(dataTable, element);\n",
              "          const docLink = document.createElement('div');\n",
              "          docLink.innerHTML = docLinkHtml;\n",
              "          element.appendChild(docLink);\n",
              "        }\n",
              "      </script>\n",
              "    </div>\n",
              "  </div>\n",
              "  "
            ]
          },
          "metadata": {},
          "execution_count": 82
        }
      ]
    },
    {
      "cell_type": "code",
      "source": [
        "df.drop_duplicates"
      ],
      "metadata": {
        "colab": {
          "base_uri": "https://localhost:8080/"
        },
        "id": "I-Eb48GZA8zg",
        "outputId": "5bf92fea-666b-4691-d087-07456620252d"
      },
      "execution_count": null,
      "outputs": [
        {
          "output_type": "execute_result",
          "data": {
            "text/plain": [
              "<bound method DataFrame.drop_duplicates of         Humidity  Temperature  Step count  Stress Level\n",
              "0      21.330000    90.330000  123.000000      1.000000\n",
              "1      21.410000    90.410000   93.000000      1.000000\n",
              "2      27.120000    96.120000  196.000000      2.000000\n",
              "3      27.640000    96.640000  177.000000      2.000000\n",
              "4      10.870000    79.870000   87.000000      0.000000\n",
              "...          ...          ...         ...           ...\n",
              "48725  19.996456    86.995745  100.330226      1.105447\n",
              "48726  19.996456    86.995745  100.330226      1.105447\n",
              "48727  19.996456    86.995745  100.330226      1.105447\n",
              "48728  19.996456    86.995745  100.330226      1.105447\n",
              "48729  19.996456    86.995745  100.330226      1.105447\n",
              "\n",
              "[48730 rows x 4 columns]>"
            ]
          },
          "metadata": {},
          "execution_count": 83
        }
      ]
    },
    {
      "cell_type": "code",
      "source": [
        "df.to_csv('pre_data.csv')"
      ],
      "metadata": {
        "id": "62Cu29InBNK2"
      },
      "execution_count": null,
      "outputs": []
    },
    {
      "cell_type": "code",
      "source": [
        "!pip install pyspark"
      ],
      "metadata": {
        "colab": {
          "base_uri": "https://localhost:8080/"
        },
        "id": "BpU7y2gkBWaV",
        "outputId": "43f55e61-26c6-4010-ad2f-1f3724743339"
      },
      "execution_count": null,
      "outputs": [
        {
          "output_type": "stream",
          "name": "stdout",
          "text": [
            "Looking in indexes: https://pypi.org/simple, https://us-python.pkg.dev/colab-wheels/public/simple/\n",
            "Requirement already satisfied: pyspark in /usr/local/lib/python3.7/dist-packages (3.2.1)\n",
            "Requirement already satisfied: py4j==0.10.9.3 in /usr/local/lib/python3.7/dist-packages (from pyspark) (0.10.9.3)\n"
          ]
        }
      ]
    },
    {
      "cell_type": "code",
      "source": [
        "from pyspark.sql import SparkSession\n",
        "spark = SparkSession.builder.appName('frido').getOrCreate()"
      ],
      "metadata": {
        "id": "Pzm8vWXRBof8"
      },
      "execution_count": null,
      "outputs": []
    },
    {
      "cell_type": "code",
      "source": [
        "df1 = spark.read.csv('pre_data.csv', inferSchema=True, header=True)\n"
      ],
      "metadata": {
        "id": "R7oIhSBUB3zW"
      },
      "execution_count": null,
      "outputs": []
    },
    {
      "cell_type": "code",
      "source": [
        "df1.show()"
      ],
      "metadata": {
        "colab": {
          "base_uri": "https://localhost:8080/"
        },
        "id": "VqIxmP-hB8DW",
        "outputId": "03d4d37a-c852-42c5-a3ec-e0ea96e9b52c"
      },
      "execution_count": null,
      "outputs": [
        {
          "output_type": "stream",
          "name": "stdout",
          "text": [
            "+--------+-----------+----------+------------+\n",
            "|Humidity|Temperature|Step count|Stress Level|\n",
            "+--------+-----------+----------+------------+\n",
            "|   21.33|      90.33|       123|           1|\n",
            "|   21.41|      90.41|        93|           1|\n",
            "|   27.12|      96.12|       196|           2|\n",
            "|   27.64|      96.64|       177|           2|\n",
            "|   10.87|      79.87|        87|           0|\n",
            "|   11.31|      80.31|        40|           0|\n",
            "|   18.16|      87.16|        88|           1|\n",
            "|    28.2|       97.2|       162|           2|\n",
            "|   14.25|      83.25|        61|           0|\n",
            "|   26.13|      95.13|       168|           2|\n",
            "|   23.61|      92.61|       200|           2|\n",
            "|   19.37|      88.37|       117|           1|\n",
            "|   29.08|      98.08|       179|           2|\n",
            "|   17.83|      86.83|        55|           1|\n",
            "|   28.06|      97.06|       148|           2|\n",
            "|   19.43|      88.43|       123|           1|\n",
            "|   26.85|      95.85|       169|           2|\n",
            "|   26.51|      95.51|       135|           2|\n",
            "|   29.49|      98.49|       149|           2|\n",
            "|   20.94|      89.94|       122|           1|\n",
            "+--------+-----------+----------+------------+\n",
            "only showing top 20 rows\n",
            "\n"
          ]
        }
      ]
    },
    {
      "cell_type": "code",
      "source": [
        "df1.printSchema()"
      ],
      "metadata": {
        "colab": {
          "base_uri": "https://localhost:8080/"
        },
        "id": "y3dvWAoWCADN",
        "outputId": "35c25280-80b9-40bf-c4e4-71dbf5cb9de2"
      },
      "execution_count": null,
      "outputs": [
        {
          "output_type": "stream",
          "name": "stdout",
          "text": [
            "root\n",
            " |-- Humidity: double (nullable = true)\n",
            " |-- Temperature: double (nullable = true)\n",
            " |-- Step count: integer (nullable = true)\n",
            " |-- Stress Level: integer (nullable = true)\n",
            "\n"
          ]
        }
      ]
    },
    {
      "cell_type": "code",
      "source": [
        "from pyspark.ml.linalg import Vectors\n",
        "from pyspark.ml.feature import VectorAssembler"
      ],
      "metadata": {
        "id": "Z3ldpBO1CD_K"
      },
      "execution_count": null,
      "outputs": []
    },
    {
      "cell_type": "code",
      "source": [
        "featureassem = VectorAssembler(inputCols=[\"Humidity\",\"Temperature\",\"Step count\"],outputCol=\"Features\")"
      ],
      "metadata": {
        "id": "fb0vFk_nCJUt"
      },
      "execution_count": null,
      "outputs": []
    },
    {
      "cell_type": "code",
      "source": [
        "output=featureassem.transform(df1)"
      ],
      "metadata": {
        "id": "PGs45y_wCXmP"
      },
      "execution_count": null,
      "outputs": []
    },
    {
      "cell_type": "code",
      "source": [
        "output.show()"
      ],
      "metadata": {
        "colab": {
          "base_uri": "https://localhost:8080/"
        },
        "id": "DaKx2PzPCYiB",
        "outputId": "f35fb103-a610-4aa5-b7a5-dbc2f54d2d19"
      },
      "execution_count": null,
      "outputs": [
        {
          "output_type": "stream",
          "name": "stdout",
          "text": [
            "+--------+-----------+----------+------------+-------------------+\n",
            "|Humidity|Temperature|Step count|Stress Level|           Features|\n",
            "+--------+-----------+----------+------------+-------------------+\n",
            "|   21.33|      90.33|       123|           1|[21.33,90.33,123.0]|\n",
            "|   21.41|      90.41|        93|           1| [21.41,90.41,93.0]|\n",
            "|   27.12|      96.12|       196|           2|[27.12,96.12,196.0]|\n",
            "|   27.64|      96.64|       177|           2|[27.64,96.64,177.0]|\n",
            "|   10.87|      79.87|        87|           0| [10.87,79.87,87.0]|\n",
            "|   11.31|      80.31|        40|           0| [11.31,80.31,40.0]|\n",
            "|   18.16|      87.16|        88|           1| [18.16,87.16,88.0]|\n",
            "|    28.2|       97.2|       162|           2|  [28.2,97.2,162.0]|\n",
            "|   14.25|      83.25|        61|           0| [14.25,83.25,61.0]|\n",
            "|   26.13|      95.13|       168|           2|[26.13,95.13,168.0]|\n",
            "|   23.61|      92.61|       200|           2|[23.61,92.61,200.0]|\n",
            "|   19.37|      88.37|       117|           1|[19.37,88.37,117.0]|\n",
            "|   29.08|      98.08|       179|           2|[29.08,98.08,179.0]|\n",
            "|   17.83|      86.83|        55|           1| [17.83,86.83,55.0]|\n",
            "|   28.06|      97.06|       148|           2|[28.06,97.06,148.0]|\n",
            "|   19.43|      88.43|       123|           1|[19.43,88.43,123.0]|\n",
            "|   26.85|      95.85|       169|           2|[26.85,95.85,169.0]|\n",
            "|   26.51|      95.51|       135|           2|[26.51,95.51,135.0]|\n",
            "|   29.49|      98.49|       149|           2|[29.49,98.49,149.0]|\n",
            "|   20.94|      89.94|       122|           1|[20.94,89.94,122.0]|\n",
            "+--------+-----------+----------+------------+-------------------+\n",
            "only showing top 20 rows\n",
            "\n"
          ]
        }
      ]
    },
    {
      "cell_type": "code",
      "source": [
        "final_otp = output.select(\"Stress Level\",\"Features\")"
      ],
      "metadata": {
        "id": "TBMjn7EhCbAt"
      },
      "execution_count": null,
      "outputs": []
    },
    {
      "cell_type": "code",
      "source": [
        "train_data,test_data = final_otp.randomSplit([0.75,0.25])"
      ],
      "metadata": {
        "id": "TYWVKVzXC8lA"
      },
      "execution_count": null,
      "outputs": []
    },
    {
      "cell_type": "code",
      "source": [
        "from pyspark.ml.classification import RandomForestClassifier \n",
        "from pyspark.ml.evaluation import MulticlassClassificationEvaluator        \n",
        "regressor = RandomForestClassifier(featuresCol='Features',labelCol=\"Stress Level\")\n",
        "regressor=regressor.fit(train_data)"
      ],
      "metadata": {
        "id": "y5vSMkkeC-60"
      },
      "execution_count": null,
      "outputs": []
    },
    {
      "cell_type": "code",
      "source": [
        "reg_predictions = regressor.transform(test_data)"
      ],
      "metadata": {
        "id": "l--URQ_RDRDJ"
      },
      "execution_count": null,
      "outputs": []
    },
    {
      "cell_type": "code",
      "source": [
        "predictions = regressor.transform(test_data)\n",
        "evaluator = MulticlassClassificationEvaluator(\n",
        "    labelCol=\"Stress Level\",\n",
        "    predictionCol=\"prediction\",\n",
        "    metricName=\"accuracy\")\n",
        "acc = evaluator.evaluate(predictions)\n",
        "y_true = predictions.select(['Stress Level']).collect()\n",
        "y_pred = predictions.select(['prediction']).collect()\n",
        "\n",
        "from sklearn.metrics import classification_report, confusion_matrix\n",
        "print('The random forest had an accuracy of: {0:2.2f}%'.format(acc*100))"
      ],
      "metadata": {
        "colab": {
          "base_uri": "https://localhost:8080/"
        },
        "id": "dtF9nhyEHcV9",
        "outputId": "bc307bf1-7b35-4973-8a1c-7219954ac004"
      },
      "execution_count": null,
      "outputs": [
        {
          "output_type": "stream",
          "name": "stdout",
          "text": [
            "The random forest had an accuracy of: 99.25%\n"
          ]
        }
      ]
    },
    {
      "cell_type": "code",
      "source": [
        "from pyspark.ml.classification import DecisionTreeClassifier \n",
        "from pyspark.ml.evaluation import MulticlassClassificationEvaluator        \n",
        "regressor = DecisionTreeClassifier(featuresCol='Features',labelCol=\"Stress Level\")\n",
        "regressor=regressor.fit(train_data)"
      ],
      "metadata": {
        "id": "5NfgabBoH8TY"
      },
      "execution_count": null,
      "outputs": []
    },
    {
      "cell_type": "code",
      "source": [
        "predictions = regressor.transform(test_data)\n",
        "evaluator = MulticlassClassificationEvaluator(\n",
        "    labelCol=\"Stress Level\",\n",
        "    predictionCol=\"prediction\",\n",
        "    metricName=\"accuracy\")\n",
        "acc = evaluator.evaluate(predictions)\n",
        "y_true = predictions.select(['Stress Level']).collect()\n",
        "y_pred = predictions.select(['prediction']).collect()\n",
        "\n",
        "from sklearn.metrics import classification_report, confusion_matrix\n",
        "print('The Decision tree had an accuracy of: {0:2.2f}%'.format(acc*100))"
      ],
      "metadata": {
        "colab": {
          "base_uri": "https://localhost:8080/"
        },
        "id": "5jqL2HWHknGM",
        "outputId": "5e1c7e77-3e7f-4c32-b426-49fa03dae79b"
      },
      "execution_count": null,
      "outputs": [
        {
          "output_type": "stream",
          "name": "stdout",
          "text": [
            "The Decision tree had an accuracy of: 99.63%\n"
          ]
        }
      ]
    },
    {
      "cell_type": "code",
      "source": [
        "from pyspark.ml.classification import LogisticRegression\n",
        "from pyspark.ml.evaluation import MulticlassClassificationEvaluator        \n",
        "regressor = LogisticRegression(featuresCol='Features',labelCol=\"Stress Level\")\n",
        "regressor=regressor.fit(train_data)"
      ],
      "metadata": {
        "id": "Ey-JQc2LkuOz"
      },
      "execution_count": null,
      "outputs": []
    },
    {
      "cell_type": "code",
      "source": [
        "predictions = regressor.transform(test_data)\n",
        "evaluator = MulticlassClassificationEvaluator(\n",
        "    labelCol=\"Stress Level\",\n",
        "    predictionCol=\"prediction\",\n",
        "    metricName=\"accuracy\")\n",
        "acc = evaluator.evaluate(predictions)\n",
        "y_true = predictions.select(['Stress Level']).collect()\n",
        "y_pred = predictions.select(['prediction']).collect()\n",
        "\n",
        "from sklearn.metrics import classification_report, confusion_matrix\n",
        "print('The logistic regression had an accuracy of: {0:2.2f}%'.format(acc*100))"
      ],
      "metadata": {
        "colab": {
          "base_uri": "https://localhost:8080/"
        },
        "id": "kHSf-0pYlACj",
        "outputId": "89b259b9-9d64-4117-e44f-c084f62fbd39"
      },
      "execution_count": null,
      "outputs": [
        {
          "output_type": "stream",
          "name": "stdout",
          "text": [
            "The logistic regression had an accuracy of: 100.00%\n"
          ]
        }
      ]
    },
    {
      "cell_type": "code",
      "source": [
        "from pyspark.ml.regression import GBTRegressor\n",
        "from pyspark.ml.evaluation import MulticlassClassificationEvaluator        \n",
        "regressor = GBTRegressor(featuresCol='Features',labelCol=\"Stress Level\")\n",
        "regressor=regressor.fit(train_data)"
      ],
      "metadata": {
        "id": "X0peOxAslX3L"
      },
      "execution_count": null,
      "outputs": []
    },
    {
      "cell_type": "code",
      "source": [
        "predictions = regressor.transform(test_data)\n",
        "evaluator = MulticlassClassificationEvaluator(\n",
        "    labelCol=\"Stress Level\",\n",
        "    predictionCol=\"prediction\",\n",
        "    metricName=\"accuracy\")\n",
        "acc = evaluator.evaluate(predictions)\n",
        "y_true = predictions.select(['Stress Level']).collect()\n",
        "y_pred = predictions.select(['prediction']).collect()\n",
        "\n",
        "from sklearn.metrics import classification_report, confusion_matrix\n",
        "print('The Gradient boost had an accuracy of: {0:2.2f}%'.format(acc*100))"
      ],
      "metadata": {
        "colab": {
          "base_uri": "https://localhost:8080/"
        },
        "id": "3KCLH9SwmJtZ",
        "outputId": "b791aad4-8508-4130-8457-3ff4b4f9a69d"
      },
      "execution_count": null,
      "outputs": [
        {
          "output_type": "stream",
          "name": "stdout",
          "text": [
            "The Gradient boost had an accuracy of: 91.01%\n"
          ]
        }
      ]
    },
    {
      "cell_type": "code",
      "source": [],
      "metadata": {
        "id": "1PvWxkecm3gK"
      },
      "execution_count": null,
      "outputs": []
    }
  ]
}